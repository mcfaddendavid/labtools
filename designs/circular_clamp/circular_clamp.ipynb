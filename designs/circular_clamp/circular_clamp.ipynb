{
 "cells": [
  {
   "cell_type": "code",
   "execution_count": 1,
   "metadata": {},
   "outputs": [
    {
     "name": "stdout",
     "output_type": "stream",
     "text": [
      "u:\\Syncthing\\Work\\CAD\\git-labtools\n"
     ]
    },
    {
     "name": "stderr",
     "output_type": "stream",
     "text": [
      "u:\\Syncthing\\Work\\CAD\\git-labtools\\mycad\\mycad.py:188: UserWarning: Could not find OpenSCAD executable. Preview and STL renderings will fail.\n",
      "  warnings.warn(\"Could not find OpenSCAD executable. Preview and STL renderings will fail.\")\n"
     ]
    },
    {
     "name": "stdout",
     "output_type": "stream",
     "text": [
      "u:\\Syncthing\\Work\\CAD\\git-labtools\\designs\\circular_clamp\n"
     ]
    }
   ],
   "source": [
    "from solid.utils import *  # Not required, but the utils module is useful\n",
    "from solid import *\n",
    "import subprocess\n",
    "import platform\n",
    "import pathlib\n",
    "    \n",
    "# move two directories up and import mycad utilities\n",
    "%cd ../..\n",
    "from mycad.mycad import *\n",
    "%cd -0\n",
    "    \n",
    "# Fn is for number of segments in a circle to render to. Check openscad for other options\n",
    "FN = 4*32\n",
    "\n",
    "FUDGE = 1e-4"
   ]
  },
  {
   "cell_type": "code",
   "execution_count": 16,
   "metadata": {},
   "outputs": [],
   "source": [
    "#======================================\n",
    "# # Flashlight\n",
    "# INNER_DIAM = 33\n",
    "# RING_THICKNESS = 3\n",
    "# RING_HEIGHT = 13\n",
    "# SEPARATION = 1\n",
    "\n",
    "# THROUGHHOLE_DIAM = 2.7+0.7\n",
    "# WRENCH_SIZE = 5.3+0.5\n",
    "# NUT_SEP = 1\n",
    "# COUNTER_THICKNESS = 1\n",
    "# HEAD_DIAM = 5.2+0.5\n",
    "\n",
    "# CYLATTACH_LENGTH = 7\n",
    "#======================================\n",
    "# Flashlight 18650\n",
    "INNER_DIAM = 28.2\n",
    "RING_THICKNESS = 3\n",
    "RING_HEIGHT = 13\n",
    "SEPARATION = 1\n",
    "\n",
    "THROUGHHOLE_DIAM = 2.7+0.7\n",
    "WRENCH_SIZE = 5.3+0.5\n",
    "NUT_SEP = 1\n",
    "COUNTER_THICKNESS = 1\n",
    "HEAD_DIAM = 5.2+0.5\n",
    "\n",
    "CYLATTACH_LENGTH = 7\n",
    "\n",
    "#======================================\n",
    "# # # telephoto\n",
    "# INNER_DIAM = 77.1 - 1 # telephoto\n",
    "# RING_THICKNESS = 3\n",
    "# RING_HEIGHT = 9\n",
    "# SEPARATION = 1\n",
    "\n",
    "# THROUGHHOLE_DIAM = 2.7+0.7\n",
    "# WRENCH_SIZE = 5.3+0.5\n",
    "# NUT_SEP = 1\n",
    "# COUNTER_THICKNESS = 1\n",
    "# HEAD_DIAM = 5.2+0.5\n",
    "\n",
    "# CYLATTACH_LENGTH = 7\n",
    "\n",
    "#======================================\n",
    "# # RPI CAM\n",
    "# INNER_DIAM = 34.9 - 1\n",
    "# RING_THICKNESS = 3\n",
    "# RING_HEIGHT = 3.4\n",
    "# SEPARATION = 1\n",
    "\n",
    "# THROUGHHOLE_DIAM = 2.7+0.7\n",
    "# WRENCH_SIZE = 5.3+0.5\n",
    "# NUT_SEP = 3\n",
    "# COUNTER_THICKNESS = 1\n",
    "# HEAD_DIAM = 5.2+0.5\n",
    "\n",
    "# CYLATTACH_LENGTH = 7"
   ]
  },
  {
   "cell_type": "code",
   "execution_count": 17,
   "metadata": {},
   "outputs": [
    {
     "data": {
      "application/vnd.jupyter.widget-view+json": {
       "model_id": "928401e580324fa8bdc38406fa766201",
       "version_major": 2,
       "version_minor": 0
      },
      "text/plain": [
       "VBox(children=(HTML(value=''), Renderer(background='#cccc88', background_opacity=0.0, camera=PerspectiveCamera…"
      ]
     },
     "metadata": {},
     "output_type": "display_data"
    }
   ],
   "source": [
    "\n",
    "psphere = pointed_sphere()\n",
    "sketch = circle(d=INNER_DIAM+2*RING_THICKNESS) - circle(d=INNER_DIAM)\n",
    "ring = linear_extrude(RING_HEIGHT)(sketch)\n",
    "\n",
    "\n",
    "ndiam = nut_diam(WRENCH_SIZE)\n",
    "hex_hole = cylinder(d=ndiam, h=INNER_DIAM, segments=6)\n",
    "hex_hole = up(SEPARATION/2+COUNTER_THICKNESS)(hex_hole)\n",
    "\n",
    "head_hole = mirror([0,0,1])(cylinder(d=HEAD_DIAM, h=INNER_DIAM))\n",
    "head_hole = down(SEPARATION/2+COUNTER_THICKNESS)(head_hole)\n",
    "\n",
    "throughhole = cylinder(d=THROUGHHOLE_DIAM, h=INNER_DIAM, center=True)\n",
    "\n",
    "holes = hex_hole + head_hole + throughhole\n",
    "\n",
    "ca_diam = ndiam*1.2\n",
    "cyl_attach = cylinder(d=ca_diam, h=CYLATTACH_LENGTH, center=True)\n",
    "tmpcube = my_cube([ca_diam/2, ca_diam, CYLATTACH_LENGTH], center=[0,1,1])\n",
    "cyl_attach = hull()(cyl_attach + tmpcube)\n",
    "\n",
    "cyl_capture = cube([20,10,100], center=True)\n",
    "\n",
    "\n",
    "def to_edge(piece):\n",
    "    piece = rotate([0,90,0])(piece)\n",
    "    piece = forward(INNER_DIAM/2+ndiam/2+NUT_SEP)(piece)\n",
    "    piece = up(ca_diam/2)(piece)\n",
    "    return piece\n",
    "\n",
    "holes = to_edge(holes)\n",
    "cyl_attach = to_edge(cyl_attach)\n",
    "cyl_capture = to_edge(cyl_capture)\n",
    "\n",
    "cyl_attach = hull()(cyl_attach + cyl_capture*ring)\n",
    "\n",
    "ring += cyl_attach\n",
    "ring -= holes\n",
    "ring -= cylinder(d=INNER_DIAM, h=INNER_DIAM)#extra punch\n",
    "\n",
    "# TODO: rounding correction, psphere\n",
    "ring -= my_cube([SEPARATION, 5*INNER_DIAM, 5*INNER_DIAM], center=[1,0,1])\n",
    "\n",
    "my_render(ring)"
   ]
  },
  {
   "cell_type": "code",
   "execution_count": 18,
   "metadata": {},
   "outputs": [
    {
     "data": {
      "application/vnd.jupyter.widget-view+json": {
       "model_id": "08ef67d545a64bada042a6c8154d3063",
       "version_major": 2,
       "version_minor": 0
      },
      "text/plain": [
       "VBox(children=(HTML(value=''), Renderer(background='#cccc88', background_opacity=0.0, camera=PerspectiveCamera…"
      ]
     },
     "metadata": {},
     "output_type": "display_data"
    }
   ],
   "source": [
    "POST_DIAM = 25.4/2-0.7\n",
    "POST_HEIGHT = 60\n",
    "# POST_HEIGHT = 40\n",
    "INSET = 1\n",
    "HULLBIT_FACTOR = 0.5+0.5/np.sqrt(2) # how high the hull is compared to post\n",
    "\n",
    "post = rotate([90,0,0])(cylinder(d=POST_DIAM, h=POST_HEIGHT))\n",
    "post = up(POST_DIAM/2-INSET)(post) - mirror([0,0,1])(my_cube(1000, center=[1,1,0]))\n",
    "\n",
    "INNER_RING_THICKNESS = 2 # how much to leave to the oiter ring\n",
    "outer_ring = cylinder(d=INNER_DIAM+2*RING_THICKNESS, h=RING_HEIGHT) - cylinder(d=INNER_DIAM+2*INNER_RING_THICKNESS, h=RING_HEIGHT)\n",
    "\n",
    "hullbit = mirror([0,1,0])(my_cube([5,100,HULLBIT_FACTOR*POST_DIAM-INSET], center=[1,0,0]))*outer_ring\n",
    "\n",
    "POST_DIST = 10\n",
    "post = back(INNER_DIAM/2+POST_DIST)(post)\n",
    "\n",
    "post = hull()(post+hullbit)\n",
    "\n",
    "comp_clamp = ring+post\n",
    "my_render(comp_clamp)"
   ]
  },
  {
   "cell_type": "code",
   "execution_count": 19,
   "metadata": {},
   "outputs": [],
   "source": [
    "# distance_plate = part\n",
    "parts = [\n",
    "         (\"cric_clamp\", comp_clamp),\n",
    "        ]\n",
    "\n",
    "for partname, part in parts:\n",
    "    scadname = partname+\".scad\"\n",
    "    stlname = partname+\".stl\"\n",
    "\n",
    "    #make scad\n",
    "    scad_render_to_file(part, scadname, file_header=f\"$fn = {FN};\")\n",
    "\n",
    "    #render scad to stl\n",
    "    comm = [OPENSCAD_EXEC, \"-o\", stlname, scadname]\n",
    "    subprocess.run(comm)"
   ]
  }
 ],
 "metadata": {
  "interpreter": {
   "hash": "ebc5d8bde41a53d848a0c2e7f35adc97cf476da6a82a837544a3cc1e39bd988a"
  },
  "kernelspec": {
   "display_name": "Python 3.8.5 64-bit ('2021-04-CAD': conda)",
   "name": "python3"
  },
  "language_info": {
   "codemirror_mode": {
    "name": "ipython",
    "version": 3
   },
   "file_extension": ".py",
   "mimetype": "text/x-python",
   "name": "python",
   "nbconvert_exporter": "python",
   "pygments_lexer": "ipython3",
   "version": "3.8.5"
  },
  "orig_nbformat": 4
 },
 "nbformat": 4,
 "nbformat_minor": 2
}
